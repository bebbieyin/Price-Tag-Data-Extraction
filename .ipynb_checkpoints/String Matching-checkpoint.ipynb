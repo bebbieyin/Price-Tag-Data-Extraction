{
 "cells": [
  {
   "cell_type": "code",
   "execution_count": 1,
   "id": "b90e83b5",
   "metadata": {},
   "outputs": [],
   "source": [
    "import numpy as np\n",
    "import os\n",
    "from paddleocr import PaddleOCR,draw_ocr\n",
    "import matplotlib.pyplot as plt\n",
    "import re\n",
    "from PIL import Image\n",
    "from tqdm import tqdm"
   ]
  },
  {
   "cell_type": "code",
   "execution_count": 15,
   "id": "459046dc",
   "metadata": {},
   "outputs": [],
   "source": [
    "# inference args = https://pypi.org/project/paddleocr/\n",
    "# inference args https://github.com/PaddlePaddle/PaddleOCR/blob/release/2.6/doc/doc_en/inference_args_en.md"
   ]
  },
  {
   "cell_type": "code",
   "execution_count": 2,
   "id": "67bdee81",
   "metadata": {},
   "outputs": [
    {
     "name": "stdout",
     "output_type": "stream",
     "text": [
      "[2023/02/05 22:59:57] ppocr DEBUG: Namespace(help='==SUPPRESS==', use_gpu=False, use_xpu=False, use_npu=False, ir_optim=True, use_tensorrt=False, min_subgraph_size=15, precision='fp32', gpu_mem=500, image_dir=None, page_num=0, det_algorithm='DB', det_model_dir='D:\\\\MyFiles\\\\Projects\\\\PriceTag\\\\models\\\\en_PP-OCRv3_det_infer', det_limit_side_len=960, det_limit_type='max', det_box_type='quad', det_db_thresh=0.3, det_db_box_thresh=0.6, det_db_unclip_ratio=1.5, max_batch_size=10, use_dilation=False, det_db_score_mode='fast', det_east_score_thresh=0.8, det_east_cover_thresh=0.1, det_east_nms_thresh=0.2, det_sast_score_thresh=0.5, det_sast_nms_thresh=0.2, det_pse_thresh=0, det_pse_box_thresh=0.85, det_pse_min_area=16, det_pse_scale=1, scales=[8, 16, 32], alpha=1.0, beta=1.0, fourier_degree=5, rec_algorithm='SVTR_LCNet', rec_model_dir='D:\\\\MyFiles\\\\Projects\\\\PriceTag\\\\models\\\\en_PP-OCRv3_rec_infer', rec_image_inverse=True, rec_image_shape='3, 48, 320', rec_batch_num=6, max_text_length=25, rec_char_dict_path='C:\\\\Users\\\\User\\\\anaconda3\\\\envs\\\\general\\\\lib\\\\site-packages\\\\paddleocr\\\\ppocr\\\\utils\\\\en_dict.txt', use_space_char=True, vis_font_path='./doc/fonts/simfang.ttf', drop_score=0.5, e2e_algorithm='PGNet', e2e_model_dir=None, e2e_limit_side_len=768, e2e_limit_type='max', e2e_pgnet_score_thresh=0.5, e2e_char_dict_path='./ppocr/utils/ic15_dict.txt', e2e_pgnet_valid_set='totaltext', e2e_pgnet_mode='fast', use_angle_cls=True, cls_model_dir='C:\\\\Users\\\\User/.paddleocr/whl\\\\cls\\\\ch_ppocr_mobile_v2.0_cls_infer', cls_image_shape='3, 48, 192', label_list=['0', '180'], cls_batch_num=6, cls_thresh=0.9, enable_mkldnn=False, cpu_threads=10, use_pdserving=False, warmup=False, sr_model_dir=None, sr_image_shape='3, 32, 128', sr_batch_num=1, draw_img_save_dir='./inference_results', save_crop_res=False, crop_res_save_dir='./output', use_mp=False, total_process_num=1, process_id=0, benchmark=False, save_log_path='./log_output/', show_log=True, use_onnx=False, output='./output', table_max_len=488, table_algorithm='TableAttn', table_model_dir=None, merge_no_span_structure=True, table_char_dict_path=None, layout_model_dir=None, layout_dict_path=None, layout_score_threshold=0.5, layout_nms_threshold=0.5, kie_algorithm='LayoutXLM', ser_model_dir=None, re_model_dir=None, use_visual_backbone=True, ser_dict_path='../train_data/XFUND/class_list_xfun.txt', ocr_order_method=None, mode='structure', image_orientation=False, layout=True, table=True, ocr=True, recovery=False, use_pdf2docx_api=False, lang='en', det=True, rec=True, type='ocr', ocr_version='PP-OCRv3', structure_version='PP-StructureV2')\n"
     ]
    }
   ],
   "source": [
    "\n",
    "det_model = r\"D:\\MyFiles\\Projects\\PriceTag\\models\\en_PP-OCRv3_det_infer\"\n",
    "rec_model = r\"D:\\MyFiles\\Projects\\PriceTag\\models\\en_PP-OCRv3_rec_infer\"\n",
    "ocr = PaddleOCR(det_model_dir=det_model, rec_model_dir=rec_model, use_angle_cls=True,lang='en')\n",
    "\n",
    "#ocr = PaddleOCR(use_angle_cls=True, lang='en') # need to run only once to download and load model into memory\n"
   ]
  },
  {
   "cell_type": "code",
   "execution_count": 23,
   "id": "071e180e",
   "metadata": {},
   "outputs": [],
   "source": [
    "output_dir = r\"D:\\MyFiles\\Projects\\PriceTag\\results\"\n",
    "input_dir = r\"D:\\MyFiles\\Projects\\PriceTag\\price_tag\""
   ]
  },
  {
   "cell_type": "code",
   "execution_count": 29,
   "id": "429d0186",
   "metadata": {},
   "outputs": [
    {
     "name": "stderr",
     "output_type": "stream",
     "text": [
      "\r",
      "  0%|                                                                                           | 0/42 [00:00<?, ?it/s]"
     ]
    },
    {
     "name": "stdout",
     "output_type": "stream",
     "text": [
      "[2023/02/04 20:17:01] ppocr DEBUG: dt_boxes num : 31, elapse : 0.4375174045562744\n",
      "[2023/02/04 20:17:01] ppocr DEBUG: cls num  : 31, elapse : 0.2559974193572998\n",
      "[2023/02/04 20:17:04] ppocr DEBUG: rec_res num  : 31, elapse : 2.8556253910064697\n"
     ]
    },
    {
     "name": "stderr",
     "output_type": "stream",
     "text": [
      "\r",
      "  2%|█▉                                                                                 | 1/42 [00:03<02:29,  3.64s/it]"
     ]
    },
    {
     "name": "stdout",
     "output_type": "stream",
     "text": [
      "[2023/02/04 20:17:04] ppocr DEBUG: dt_boxes num : 56, elapse : 0.43802738189697266\n",
      "[2023/02/04 20:17:05] ppocr DEBUG: cls num  : 56, elapse : 0.46207499504089355\n",
      "[2023/02/04 20:17:10] ppocr DEBUG: rec_res num  : 56, elapse : 5.820255756378174\n"
     ]
    },
    {
     "name": "stderr",
     "output_type": "stream",
     "text": [
      "\r",
      "  5%|███▉                                                                               | 2/42 [00:10<03:39,  5.49s/it]"
     ]
    },
    {
     "name": "stdout",
     "output_type": "stream",
     "text": [
      "[2023/02/04 20:17:11] ppocr DEBUG: dt_boxes num : 22, elapse : 0.4330437183380127\n",
      "[2023/02/04 20:17:11] ppocr DEBUG: cls num  : 22, elapse : 0.18251538276672363\n",
      "[2023/02/04 20:17:13] ppocr DEBUG: rec_res num  : 22, elapse : 2.311676263809204\n"
     ]
    },
    {
     "name": "stderr",
     "output_type": "stream",
     "text": [
      "\r",
      "  7%|█████▉                                                                             | 3/42 [00:13<02:49,  4.35s/it]"
     ]
    },
    {
     "name": "stdout",
     "output_type": "stream",
     "text": [
      "[2023/02/04 20:17:14] ppocr DEBUG: dt_boxes num : 11, elapse : 0.4250044822692871\n",
      "[2023/02/04 20:17:14] ppocr DEBUG: cls num  : 11, elapse : 0.09200000762939453\n",
      "[2023/02/04 20:17:15] ppocr DEBUG: rec_res num  : 11, elapse : 1.0559992790222168\n"
     ]
    },
    {
     "name": "stderr",
     "output_type": "stream",
     "text": [
      "\r",
      " 10%|███████▉                                                                           | 4/42 [00:15<02:04,  3.28s/it]"
     ]
    },
    {
     "name": "stdout",
     "output_type": "stream",
     "text": [
      "[2023/02/04 20:17:16] ppocr DEBUG: dt_boxes num : 11, elapse : 0.5800514221191406\n",
      "[2023/02/04 20:17:16] ppocr DEBUG: cls num  : 11, elapse : 0.09300065040588379\n",
      "[2023/02/04 20:17:18] ppocr DEBUG: rec_res num  : 11, elapse : 1.6936793327331543\n"
     ]
    },
    {
     "name": "stderr",
     "output_type": "stream",
     "text": [
      "\r",
      " 12%|█████████▉                                                                         | 5/42 [00:17<01:49,  2.97s/it]"
     ]
    },
    {
     "name": "stdout",
     "output_type": "stream",
     "text": [
      "[2023/02/04 20:17:18] ppocr DEBUG: dt_boxes num : 12, elapse : 0.5760495662689209\n",
      "[2023/02/04 20:17:18] ppocr DEBUG: cls num  : 12, elapse : 0.0989990234375\n",
      "[2023/02/04 20:17:20] ppocr DEBUG: rec_res num  : 12, elapse : 1.89347505569458\n"
     ]
    },
    {
     "name": "stderr",
     "output_type": "stream",
     "text": [
      "\r",
      " 14%|███████████▊                                                                       | 6/42 [00:20<01:42,  2.85s/it]"
     ]
    },
    {
     "name": "stdout",
     "output_type": "stream",
     "text": [
      "[2023/02/04 20:17:21] ppocr DEBUG: dt_boxes num : 23, elapse : 0.5815064907073975\n",
      "[2023/02/04 20:17:21] ppocr DEBUG: cls num  : 23, elapse : 0.19300055503845215\n",
      "[2023/02/04 20:17:24] ppocr DEBUG: rec_res num  : 23, elapse : 2.791466236114502\n"
     ]
    },
    {
     "name": "stderr",
     "output_type": "stream",
     "text": [
      "\r",
      " 17%|█████████████▊                                                                     | 7/42 [00:23<01:48,  3.10s/it]"
     ]
    },
    {
     "name": "stdout",
     "output_type": "stream",
     "text": [
      "[2023/02/04 20:17:24] ppocr DEBUG: dt_boxes num : 26, elapse : 0.5756688117980957\n",
      "[2023/02/04 20:17:25] ppocr DEBUG: cls num  : 26, elapse : 0.2169792652130127\n",
      "[2023/02/04 20:17:28] ppocr DEBUG: rec_res num  : 26, elapse : 2.959099054336548\n"
     ]
    },
    {
     "name": "stderr",
     "output_type": "stream",
     "text": [
      "\r",
      " 19%|███████████████▊                                                                   | 8/42 [00:27<01:53,  3.33s/it]"
     ]
    },
    {
     "name": "stdout",
     "output_type": "stream",
     "text": [
      "[2023/02/04 20:17:28] ppocr DEBUG: dt_boxes num : 13, elapse : 0.5825390815734863\n",
      "[2023/02/04 20:17:28] ppocr DEBUG: cls num  : 13, elapse : 0.10899996757507324\n",
      "[2023/02/04 20:17:30] ppocr DEBUG: rec_res num  : 13, elapse : 1.6832802295684814\n"
     ]
    },
    {
     "name": "stderr",
     "output_type": "stream",
     "text": [
      "\r",
      " 21%|█████████████████▊                                                                 | 9/42 [00:29<01:40,  3.05s/it]"
     ]
    },
    {
     "name": "stdout",
     "output_type": "stream",
     "text": [
      "[2023/02/04 20:17:31] ppocr DEBUG: dt_boxes num : 19, elapse : 0.5779995918273926\n",
      "[2023/02/04 20:17:31] ppocr DEBUG: cls num  : 19, elapse : 0.15900015830993652\n",
      "[2023/02/04 20:17:33] ppocr DEBUG: rec_res num  : 19, elapse : 2.5530478954315186\n"
     ]
    },
    {
     "name": "stderr",
     "output_type": "stream",
     "text": [
      "\r",
      " 24%|███████████████████▌                                                              | 10/42 [00:33<01:40,  3.14s/it]"
     ]
    },
    {
     "name": "stdout",
     "output_type": "stream",
     "text": [
      "[2023/02/04 20:17:34] ppocr DEBUG: dt_boxes num : 13, elapse : 0.5720393657684326\n",
      "[2023/02/04 20:17:34] ppocr DEBUG: cls num  : 13, elapse : 0.10799956321716309\n",
      "[2023/02/04 20:17:36] ppocr DEBUG: rec_res num  : 13, elapse : 1.7960219383239746\n"
     ]
    },
    {
     "name": "stderr",
     "output_type": "stream",
     "text": [
      "\r",
      " 26%|█████████████████████▍                                                            | 11/42 [00:35<01:31,  2.96s/it]"
     ]
    },
    {
     "name": "stdout",
     "output_type": "stream",
     "text": [
      "[2023/02/04 20:17:37] ppocr DEBUG: dt_boxes num : 11, elapse : 0.5699994564056396\n",
      "[2023/02/04 20:17:37] ppocr DEBUG: cls num  : 11, elapse : 0.09099888801574707\n",
      "[2023/02/04 20:17:38] ppocr DEBUG: rec_res num  : 11, elapse : 1.5909998416900635\n"
     ]
    },
    {
     "name": "stderr",
     "output_type": "stream",
     "text": [
      "\r",
      " 29%|███████████████████████▍                                                          | 12/42 [00:38<01:22,  2.76s/it]"
     ]
    },
    {
     "name": "stdout",
     "output_type": "stream",
     "text": [
      "[2023/02/04 20:17:39] ppocr DEBUG: dt_boxes num : 12, elapse : 0.5760171413421631\n",
      "[2023/02/04 20:17:39] ppocr DEBUG: cls num  : 12, elapse : 0.1000223159790039\n",
      "[2023/02/04 20:17:41] ppocr DEBUG: rec_res num  : 12, elapse : 1.9159998893737793\n"
     ]
    },
    {
     "name": "stderr",
     "output_type": "stream",
     "text": [
      "\r",
      " 31%|█████████████████████████▍                                                        | 13/42 [00:40<01:19,  2.73s/it]"
     ]
    },
    {
     "name": "stdout",
     "output_type": "stream",
     "text": [
      "[2023/02/04 20:17:42] ppocr DEBUG: dt_boxes num : 13, elapse : 0.572587251663208\n",
      "[2023/02/04 20:17:42] ppocr DEBUG: cls num  : 13, elapse : 0.10799837112426758\n",
      "[2023/02/04 20:17:43] ppocr DEBUG: rec_res num  : 13, elapse : 1.7170684337615967\n"
     ]
    },
    {
     "name": "stderr",
     "output_type": "stream",
     "text": [
      "\r",
      " 33%|███████████████████████████▎                                                      | 14/42 [00:43<01:13,  2.64s/it]"
     ]
    },
    {
     "name": "stdout",
     "output_type": "stream",
     "text": [
      "[2023/02/04 20:17:44] ppocr DEBUG: dt_boxes num : 6, elapse : 0.5719013214111328\n",
      "[2023/02/04 20:17:44] ppocr DEBUG: cls num  : 6, elapse : 0.0510256290435791\n",
      "[2023/02/04 20:17:45] ppocr DEBUG: rec_res num  : 6, elapse : 1.109048843383789\n"
     ]
    },
    {
     "name": "stderr",
     "output_type": "stream",
     "text": [
      "\r",
      " 36%|█████████████████████████████▎                                                    | 15/42 [00:45<01:04,  2.38s/it]"
     ]
    },
    {
     "name": "stdout",
     "output_type": "stream",
     "text": [
      "[2023/02/04 20:17:46] ppocr DEBUG: dt_boxes num : 6, elapse : 0.5719985961914062\n",
      "[2023/02/04 20:17:46] ppocr DEBUG: cls num  : 6, elapse : 0.049999237060546875\n",
      "[2023/02/04 20:17:47] ppocr DEBUG: rec_res num  : 6, elapse : 1.3000462055206299\n"
     ]
    },
    {
     "name": "stderr",
     "output_type": "stream",
     "text": [
      "\r",
      " 38%|███████████████████████████████▏                                                  | 16/42 [00:47<00:58,  2.26s/it]"
     ]
    },
    {
     "name": "stdout",
     "output_type": "stream",
     "text": [
      "[2023/02/04 20:17:48] ppocr DEBUG: dt_boxes num : 7, elapse : 0.5720224380493164\n",
      "[2023/02/04 20:17:48] ppocr DEBUG: cls num  : 7, elapse : 0.05899977684020996\n",
      "[2023/02/04 20:17:49] ppocr DEBUG: rec_res num  : 7, elapse : 0.988023042678833\n"
     ]
    },
    {
     "name": "stderr",
     "output_type": "stream",
     "text": [
      "\r",
      " 40%|█████████████████████████████████▏                                                | 17/42 [00:48<00:52,  2.08s/it]"
     ]
    },
    {
     "name": "stdout",
     "output_type": "stream",
     "text": [
      "[2023/02/04 20:17:49] ppocr DEBUG: dt_boxes num : 17, elapse : 0.5736327171325684\n",
      "[2023/02/04 20:17:50] ppocr DEBUG: cls num  : 17, elapse : 0.14002108573913574\n",
      "[2023/02/04 20:17:52] ppocr DEBUG: rec_res num  : 17, elapse : 2.39904522895813\n"
     ]
    },
    {
     "name": "stderr",
     "output_type": "stream",
     "text": [
      "\r",
      " 43%|███████████████████████████████████▏                                              | 18/42 [00:51<00:57,  2.42s/it]"
     ]
    },
    {
     "name": "stdout",
     "output_type": "stream",
     "text": [
      "[2023/02/04 20:17:53] ppocr DEBUG: dt_boxes num : 13, elapse : 0.5690016746520996\n",
      "[2023/02/04 20:17:53] ppocr DEBUG: cls num  : 13, elapse : 0.10799860954284668\n",
      "[2023/02/04 20:17:54] ppocr DEBUG: rec_res num  : 13, elapse : 1.529531717300415\n"
     ]
    },
    {
     "name": "stderr",
     "output_type": "stream",
     "text": [
      "\r",
      " 45%|█████████████████████████████████████                                             | 19/42 [00:54<00:54,  2.37s/it]"
     ]
    },
    {
     "name": "stdout",
     "output_type": "stream",
     "text": [
      "[2023/02/04 20:17:55] ppocr DEBUG: dt_boxes num : 15, elapse : 0.5750687122344971\n",
      "[2023/02/04 20:17:55] ppocr DEBUG: cls num  : 15, elapse : 0.12400031089782715\n",
      "[2023/02/04 20:17:57] ppocr DEBUG: rec_res num  : 15, elapse : 1.9065320491790771\n"
     ]
    },
    {
     "name": "stderr",
     "output_type": "stream",
     "text": [
      "\r",
      " 48%|███████████████████████████████████████                                           | 20/42 [00:56<00:54,  2.46s/it]"
     ]
    },
    {
     "name": "stdout",
     "output_type": "stream",
     "text": [
      "[2023/02/04 20:17:57] ppocr DEBUG: dt_boxes num : 9, elapse : 0.5679998397827148\n",
      "[2023/02/04 20:17:58] ppocr DEBUG: cls num  : 9, elapse : 0.0749979019165039\n",
      "[2023/02/04 20:17:59] ppocr DEBUG: rec_res num  : 9, elapse : 1.115999698638916\n"
     ]
    },
    {
     "name": "stderr",
     "output_type": "stream",
     "text": [
      "\r",
      " 50%|█████████████████████████████████████████                                         | 21/42 [00:58<00:47,  2.26s/it]"
     ]
    },
    {
     "name": "stdout",
     "output_type": "stream",
     "text": [
      "[2023/02/04 20:17:59] ppocr DEBUG: dt_boxes num : 16, elapse : 0.5729999542236328\n",
      "[2023/02/04 20:17:59] ppocr DEBUG: cls num  : 16, elapse : 0.13399887084960938\n",
      "[2023/02/04 20:18:01] ppocr DEBUG: rec_res num  : 16, elapse : 1.5550901889801025\n"
     ]
    },
    {
     "name": "stderr",
     "output_type": "stream",
     "text": [
      "\r",
      " 52%|██████████████████████████████████████████▉                                       | 22/42 [01:00<00:45,  2.28s/it]"
     ]
    },
    {
     "name": "stdout",
     "output_type": "stream",
     "text": [
      "[2023/02/04 20:18:02] ppocr DEBUG: dt_boxes num : 24, elapse : 0.5785324573516846\n",
      "[2023/02/04 20:18:02] ppocr DEBUG: cls num  : 24, elapse : 0.19800043106079102\n",
      "[2023/02/04 20:18:04] ppocr DEBUG: rec_res num  : 24, elapse : 2.5466201305389404\n"
     ]
    },
    {
     "name": "stderr",
     "output_type": "stream",
     "text": [
      "\r",
      " 55%|████████████████████████████████████████████▉                                     | 23/42 [01:04<00:49,  2.61s/it]"
     ]
    },
    {
     "name": "stdout",
     "output_type": "stream",
     "text": [
      "[2023/02/04 20:18:05] ppocr DEBUG: dt_boxes num : 8, elapse : 0.5710923671722412\n",
      "[2023/02/04 20:18:05] ppocr DEBUG: cls num  : 8, elapse : 0.0675363540649414\n",
      "[2023/02/04 20:18:07] ppocr DEBUG: rec_res num  : 8, elapse : 1.4690706729888916\n"
     ]
    },
    {
     "name": "stderr",
     "output_type": "stream",
     "text": [
      "\r",
      " 57%|██████████████████████████████████████████████▊                                   | 24/42 [01:06<00:44,  2.48s/it]"
     ]
    },
    {
     "name": "stdout",
     "output_type": "stream",
     "text": [
      "[2023/02/04 20:18:07] ppocr DEBUG: dt_boxes num : 9, elapse : 0.5685329437255859\n",
      "[2023/02/04 20:18:07] ppocr DEBUG: cls num  : 9, elapse : 0.07499861717224121\n",
      "[2023/02/04 20:18:08] ppocr DEBUG: rec_res num  : 9, elapse : 1.0029997825622559\n"
     ]
    },
    {
     "name": "stderr",
     "output_type": "stream",
     "text": [
      "\r",
      " 60%|████████████████████████████████████████████████▊                                 | 25/42 [01:08<00:38,  2.24s/it]"
     ]
    },
    {
     "name": "stdout",
     "output_type": "stream",
     "text": [
      "[2023/02/04 20:18:09] ppocr DEBUG: dt_boxes num : 3, elapse : 0.5695350170135498\n",
      "[2023/02/04 20:18:09] ppocr DEBUG: cls num  : 3, elapse : 0.02500009536743164\n",
      "[2023/02/04 20:18:09] ppocr DEBUG: rec_res num  : 3, elapse : 0.2759995460510254\n"
     ]
    },
    {
     "name": "stderr",
     "output_type": "stream",
     "text": [
      "\r",
      " 62%|██████████████████████████████████████████████████▊                               | 26/42 [01:09<00:29,  1.84s/it]"
     ]
    },
    {
     "name": "stdout",
     "output_type": "stream",
     "text": [
      "[2023/02/04 20:18:10] ppocr DEBUG: dt_boxes num : 11, elapse : 0.5750730037689209\n",
      "[2023/02/04 20:18:10] ppocr DEBUG: cls num  : 11, elapse : 0.09099769592285156\n",
      "[2023/02/04 20:18:12] ppocr DEBUG: rec_res num  : 11, elapse : 1.7690017223358154\n"
     ]
    },
    {
     "name": "stderr",
     "output_type": "stream",
     "text": [
      "\r",
      " 64%|████████████████████████████████████████████████████▋                             | 27/42 [01:11<00:30,  2.04s/it]"
     ]
    },
    {
     "name": "stdout",
     "output_type": "stream",
     "text": [
      "[2023/02/04 20:18:12] ppocr DEBUG: dt_boxes num : 14, elapse : 0.5783112049102783\n",
      "[2023/02/04 20:18:12] ppocr DEBUG: cls num  : 14, elapse : 0.11653280258178711\n",
      "[2023/02/04 20:18:14] ppocr DEBUG: rec_res num  : 14, elapse : 1.8225324153900146\n"
     ]
    },
    {
     "name": "stderr",
     "output_type": "stream",
     "text": [
      "\r",
      " 67%|██████████████████████████████████████████████████████▋                           | 28/42 [01:14<00:30,  2.20s/it]"
     ]
    },
    {
     "name": "stdout",
     "output_type": "stream",
     "text": [
      "[2023/02/04 20:18:15] ppocr DEBUG: dt_boxes num : 15, elapse : 0.576068639755249\n",
      "[2023/02/04 20:18:15] ppocr DEBUG: cls num  : 15, elapse : 0.12599897384643555\n",
      "[2023/02/04 20:18:17] ppocr DEBUG: rec_res num  : 15, elapse : 2.431626081466675\n"
     ]
    },
    {
     "name": "stderr",
     "output_type": "stream",
     "text": [
      "\r",
      " 69%|████████████████████████████████████████████████████████▌                         | 29/42 [01:17<00:32,  2.50s/it]"
     ]
    },
    {
     "name": "stdout",
     "output_type": "stream",
     "text": [
      "[2023/02/04 20:18:18] ppocr DEBUG: dt_boxes num : 6, elapse : 0.5735342502593994\n",
      "[2023/02/04 20:18:18] ppocr DEBUG: cls num  : 6, elapse : 0.050000905990600586\n",
      "[2023/02/04 20:18:20] ppocr DEBUG: rec_res num  : 6, elapse : 1.7681324481964111\n"
     ]
    },
    {
     "name": "stderr",
     "output_type": "stream",
     "text": [
      "\r",
      " 71%|██████████████████████████████████████████████████████████▌                       | 30/42 [01:19<00:29,  2.48s/it]"
     ]
    },
    {
     "name": "stdout",
     "output_type": "stream",
     "text": [
      "[2023/02/04 20:18:20] ppocr DEBUG: dt_boxes num : 14, elapse : 0.5759999752044678\n",
      "[2023/02/04 20:18:21] ppocr DEBUG: cls num  : 14, elapse : 0.11599898338317871\n",
      "[2023/02/04 20:18:22] ppocr DEBUG: rec_res num  : 14, elapse : 1.8360974788665771\n"
     ]
    },
    {
     "name": "stderr",
     "output_type": "stream",
     "text": [
      "\r",
      " 74%|████████████████████████████████████████████████████████████▌                     | 31/42 [01:22<00:27,  2.51s/it]"
     ]
    },
    {
     "name": "stdout",
     "output_type": "stream",
     "text": [
      "[2023/02/04 20:18:23] ppocr DEBUG: dt_boxes num : 12, elapse : 0.5779993534088135\n",
      "[2023/02/04 20:18:23] ppocr DEBUG: cls num  : 12, elapse : 0.0989995002746582\n",
      "[2023/02/04 20:18:26] ppocr DEBUG: rec_res num  : 12, elapse : 2.3796043395996094\n"
     ]
    },
    {
     "name": "stderr",
     "output_type": "stream",
     "text": [
      "\r",
      " 76%|██████████████████████████████████████████████████████████████▍                   | 32/42 [01:25<00:26,  2.69s/it]"
     ]
    },
    {
     "name": "stdout",
     "output_type": "stream",
     "text": [
      "[2023/02/04 20:18:26] ppocr DEBUG: dt_boxes num : 8, elapse : 0.5709998607635498\n",
      "[2023/02/04 20:18:26] ppocr DEBUG: cls num  : 8, elapse : 0.06699967384338379\n",
      "[2023/02/04 20:18:28] ppocr DEBUG: rec_res num  : 8, elapse : 1.545534372329712\n"
     ]
    },
    {
     "name": "stderr",
     "output_type": "stream",
     "text": [
      "\r",
      " 79%|████████████████████████████████████████████████████████████████▍                 | 33/42 [01:27<00:22,  2.55s/it]"
     ]
    },
    {
     "name": "stdout",
     "output_type": "stream",
     "text": [
      "[2023/02/04 20:18:28] ppocr DEBUG: dt_boxes num : 10, elapse : 0.574000358581543\n",
      "[2023/02/04 20:18:29] ppocr DEBUG: cls num  : 10, elapse : 0.08299994468688965\n",
      "[2023/02/04 20:18:30] ppocr DEBUG: rec_res num  : 10, elapse : 1.5710697174072266\n"
     ]
    },
    {
     "name": "stderr",
     "output_type": "stream",
     "text": [
      "\r",
      " 81%|██████████████████████████████████████████████████████████████████▍               | 34/42 [01:30<00:19,  2.47s/it]"
     ]
    },
    {
     "name": "stdout",
     "output_type": "stream",
     "text": [
      "[2023/02/04 20:18:31] ppocr DEBUG: dt_boxes num : 6, elapse : 0.5689995288848877\n",
      "[2023/02/04 20:18:31] ppocr DEBUG: cls num  : 6, elapse : 0.05199027061462402\n",
      "[2023/02/04 20:18:32] ppocr DEBUG: rec_res num  : 6, elapse : 1.3875343799591064\n"
     ]
    },
    {
     "name": "stderr",
     "output_type": "stream",
     "text": [
      "\r",
      " 83%|████████████████████████████████████████████████████████████████████▎             | 35/42 [01:32<00:16,  2.35s/it]"
     ]
    },
    {
     "name": "stdout",
     "output_type": "stream",
     "text": [
      "[2023/02/04 20:18:33] ppocr DEBUG: dt_boxes num : 6, elapse : 0.5710709095001221\n",
      "[2023/02/04 20:18:33] ppocr DEBUG: cls num  : 6, elapse : 0.04999971389770508\n",
      "[2023/02/04 20:18:34] ppocr DEBUG: rec_res num  : 6, elapse : 1.345080852508545\n"
     ]
    },
    {
     "name": "stderr",
     "output_type": "stream",
     "text": [
      "\r",
      " 86%|██████████████████████████████████████████████████████████████████████▎           | 36/42 [01:34<00:13,  2.25s/it]"
     ]
    },
    {
     "name": "stdout",
     "output_type": "stream",
     "text": [
      "[2023/02/04 20:18:35] ppocr DEBUG: dt_boxes num : 17, elapse : 0.578070878982544\n",
      "[2023/02/04 20:18:35] ppocr DEBUG: cls num  : 17, elapse : 0.13999629020690918\n",
      "[2023/02/04 20:18:37] ppocr DEBUG: rec_res num  : 17, elapse : 2.009535312652588\n"
     ]
    },
    {
     "name": "stderr",
     "output_type": "stream",
     "text": [
      "\r",
      " 88%|████████████████████████████████████████████████████████████████████████▏         | 37/42 [01:36<00:12,  2.41s/it]"
     ]
    },
    {
     "name": "stdout",
     "output_type": "stream",
     "text": [
      "[2023/02/04 20:18:38] ppocr DEBUG: dt_boxes num : 18, elapse : 0.5759999752044678\n",
      "[2023/02/04 20:18:38] ppocr DEBUG: cls num  : 18, elapse : 0.15000009536743164\n",
      "[2023/02/04 20:18:40] ppocr DEBUG: rec_res num  : 18, elapse : 2.161534070968628\n"
     ]
    },
    {
     "name": "stderr",
     "output_type": "stream",
     "text": [
      "\r",
      " 90%|██████████████████████████████████████████████████████████████████████████▏       | 38/42 [01:39<00:10,  2.57s/it]"
     ]
    },
    {
     "name": "stdout",
     "output_type": "stream",
     "text": [
      "[2023/02/04 20:18:41] ppocr DEBUG: dt_boxes num : 29, elapse : 0.5775361061096191\n",
      "[2023/02/04 20:18:41] ppocr DEBUG: cls num  : 29, elapse : 0.2389998435974121\n",
      "[2023/02/04 20:18:45] ppocr DEBUG: rec_res num  : 29, elapse : 4.552603721618652\n"
     ]
    },
    {
     "name": "stderr",
     "output_type": "stream",
     "text": [
      "\r",
      " 93%|████████████████████████████████████████████████████████████████████████████▏     | 39/42 [01:45<00:10,  3.43s/it]"
     ]
    },
    {
     "name": "stdout",
     "output_type": "stream",
     "text": [
      "[2023/02/04 20:18:46] ppocr DEBUG: dt_boxes num : 41, elapse : 0.5839993953704834\n",
      "[2023/02/04 20:18:46] ppocr DEBUG: cls num  : 41, elapse : 0.33699941635131836\n",
      "[2023/02/04 20:18:51] ppocr DEBUG: rec_res num  : 41, elapse : 4.681706666946411\n"
     ]
    },
    {
     "name": "stderr",
     "output_type": "stream",
     "text": [
      "\r",
      " 95%|██████████████████████████████████████████████████████████████████████████████    | 40/42 [01:50<00:08,  4.11s/it]"
     ]
    },
    {
     "name": "stdout",
     "output_type": "stream",
     "text": [
      "[2023/02/04 20:18:52] ppocr DEBUG: dt_boxes num : 15, elapse : 0.5819997787475586\n",
      "[2023/02/04 20:18:52] ppocr DEBUG: cls num  : 15, elapse : 0.127000093460083\n",
      "[2023/02/04 20:18:54] ppocr DEBUG: rec_res num  : 15, elapse : 1.7725353240966797\n"
     ]
    },
    {
     "name": "stderr",
     "output_type": "stream",
     "text": [
      "\r",
      " 98%|████████████████████████████████████████████████████████████████████████████████  | 41/42 [01:53<00:03,  3.64s/it]"
     ]
    },
    {
     "name": "stdout",
     "output_type": "stream",
     "text": [
      "[2023/02/04 20:18:54] ppocr DEBUG: dt_boxes num : 22, elapse : 0.5805659294128418\n",
      "[2023/02/04 20:18:54] ppocr DEBUG: cls num  : 22, elapse : 0.18502449989318848\n",
      "[2023/02/04 20:18:57] ppocr DEBUG: rec_res num  : 22, elapse : 2.739394187927246\n"
     ]
    },
    {
     "name": "stderr",
     "output_type": "stream",
     "text": [
      "100%|██████████████████████████████████████████████████████████████████████████████████| 42/42 [01:57<00:00,  2.79s/it]\n"
     ]
    }
   ],
   "source": [
    "for i in tqdm(os.listdir(input_dir)):\n",
    "    img_path = os.path.join(input_dir,i)\n",
    "    out_path =  os.path.join(output_dir,i)\n",
    "    result = ocr.ocr(img_path, cls=True)\n",
    "    \n",
    "    \"\"\"\n",
    "    for idx in range(len(result)):\n",
    "        res = result[idx]\n",
    "        for line in res:\n",
    "            print(line)\n",
    "    \"\"\"\n",
    "\n",
    "    \n",
    "    result = result[0]\n",
    "    image = Image.open(img_path).convert('RGB')\n",
    "    boxes = [line[0] for line in result]\n",
    "    txts = [line[1][0] for line in result]\n",
    "    scores = [line[1][1] for line in result]\n",
    "    im_show = draw_ocr(image, boxes, txts, scores, font_path='./fonts/simfang.ttf')\n",
    "    im_show = Image.fromarray(im_show)\n",
    "    im_show.save(out_path)"
   ]
  },
  {
   "cell_type": "code",
   "execution_count": 115,
   "id": "6abf6227",
   "metadata": {},
   "outputs": [
    {
     "name": "stdout",
     "output_type": "stream",
     "text": [
      "[2023/02/06 10:33:29] ppocr DEBUG: dt_boxes num : 7, elapse : 0.5771389007568359\n",
      "[2023/02/06 10:33:30] ppocr DEBUG: cls num  : 7, elapse : 0.05899691581726074\n",
      "[2023/02/06 10:33:30] ppocr DEBUG: rec_res num  : 7, elapse : 0.9746019840240479\n",
      "[[[748.0, 480.0], [941.0, 490.0], [940.0, 517.0], [747.0, 507.0]], ('ARRTE', 0.9835444688796997)]\n",
      "[[[421.0, 504.0], [557.0, 504.0], [557.0, 598.0], [421.0, 598.0]], ('97', 0.9996440410614014)]\n",
      "[[[207.0, 517.0], [293.0, 520.0], [291.0, 569.0], [205.0, 565.0]], ('RM', 0.996882438659668)]\n",
      "[[[559.0, 532.0], [646.0, 532.0], [646.0, 591.0], [559.0, 591.0]], ('.80', 0.9940810203552246)]\n",
      "[[[214.0, 623.0], [503.0, 636.0], [502.0, 666.0], [212.0, 653.0]], ('CF HONEY SERIES', 0.9418937563896179)]\n",
      "[[[221.0, 665.0], [470.0, 675.0], [468.0, 702.0], [220.0, 692.0]], ('2SX1KG CNY23', 0.9584410190582275)]\n",
      "[[[602.0, 680.0], [891.0, 691.0], [891.0, 710.0], [602.0, 700.0]], ('10 539089555175005035', 0.971619188785553)]\n"
     ]
    }
   ],
   "source": [
    "img_path = r\"D:\\MyFiles\\Projects\\PriceTag\\price_tag\\IMG_20230111_163916.jpg\"\n",
    "result = ocr.ocr(img_path, cls=True)\n",
    "    \n",
    "\n",
    "for idx in range(len(result)):\n",
    "    res = result[idx]\n",
    "    for line in res:\n",
    "        print(line)\n",
    "\n",
    "result = result[0]\n",
    "image = Image.open(img_path).convert('RGB')\n",
    "boxes = [line[0] for line in result]\n",
    "txts = [line[1][0] for line in result]\n",
    "scores = [line[1][1] for line in result]\n",
    "im_show = draw_ocr(image, boxes, txts, scores, font_path='./fonts/simfang.ttf')\n",
    "im_show = Image.fromarray(im_show)"
   ]
  },
  {
   "cell_type": "code",
   "execution_count": 116,
   "id": "6d94134c",
   "metadata": {},
   "outputs": [
    {
     "name": "stdout",
     "output_type": "stream",
     "text": [
      " 539089555175005035\n"
     ]
    }
   ],
   "source": [
    "candidates = []\n",
    "for i,res in enumerate(txts):\n",
    "    #print(res)\n",
    "    #print(re.findall(r'.[0-9]+$',res))\n",
    "    if re.findall(r'.[0-9]+$', res):\n",
    "        if len(re.findall(r'.[0-9]+$', res)[0])>=12:\n",
    "            barcode= re.findall(r'.[0-9]+$', res)[0]\n",
    "            #barcode=''.join(b for b in barcode if b.isdigit())\n",
    "            print(barcode)\n",
    "    \n",
    "    \n",
    "    if re.search('RM', res):\n",
    "        candidates.append(txts[i-2:i+3])\n",
    "\n",
    " "
   ]
  },
  {
   "cell_type": "code",
   "execution_count": 117,
   "id": "39ad350d",
   "metadata": {},
   "outputs": [
    {
     "data": {
      "text/plain": [
       "[['ARRTE', '97', 'RM', '.80', 'CF HONEY SERIES']]"
      ]
     },
     "execution_count": 117,
     "metadata": {},
     "output_type": "execute_result"
    }
   ],
   "source": [
    "candidates"
   ]
  },
  {
   "cell_type": "code",
   "execution_count": 119,
   "id": "7fa34163",
   "metadata": {},
   "outputs": [],
   "source": [
    "for i in range(len(candidates)):\n",
    "    cur_list = candidates[i]\n",
    "    for j in cur_list:\n",
    "        if re.search(\"(\\d+\\.\\d{1,2})\",j):\n",
    "            print(j)\n"
   ]
  }
 ],
 "metadata": {
  "kernelspec": {
   "display_name": "general",
   "language": "python",
   "name": "general"
  },
  "language_info": {
   "codemirror_mode": {
    "name": "ipython",
    "version": 3
   },
   "file_extension": ".py",
   "mimetype": "text/x-python",
   "name": "python",
   "nbconvert_exporter": "python",
   "pygments_lexer": "ipython3",
   "version": "3.10.4"
  }
 },
 "nbformat": 4,
 "nbformat_minor": 5
}
